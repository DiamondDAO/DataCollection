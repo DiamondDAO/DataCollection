{
 "cells": [
  {
   "cell_type": "code",
   "execution_count": 1,
   "id": "2b7e4a95-7210-4a21-a6e7-99412d41c135",
   "metadata": {},
   "outputs": [
    {
     "data": {
      "text/plain": [
       "()"
      ]
     },
     "execution_count": 1,
     "metadata": {},
     "output_type": "execute_result"
    }
   ],
   "source": [
    "import pandas as pd\n",
    "import requests\n",
    "import py2neo\n",
    "import dotenv\n",
    "from web3 import Web3\n",
    "import re\n",
    "from dotenv import load_dotenv\n",
    "import os\n",
    "load_dotenv()\n",
    "\n",
    "web3 = Web3(Web3.HTTPProvider('https://eth-mainnet.alchemyapi.io/v2/P667s84hD-xZzok8oF7Rhq38ztt7EMCE'));()"
   ]
  },
  {
   "cell_type": "code",
   "execution_count": 29,
   "id": "3ef993dd-89e8-4179-9ab6-f8806ecc1398",
   "metadata": {},
   "outputs": [
    {
     "data": {
      "text/html": [
       "<div>\n",
       "<style scoped>\n",
       "    .dataframe tbody tr th:only-of-type {\n",
       "        vertical-align: middle;\n",
       "    }\n",
       "\n",
       "    .dataframe tbody tr th {\n",
       "        vertical-align: top;\n",
       "    }\n",
       "\n",
       "    .dataframe thead th {\n",
       "        text-align: right;\n",
       "    }\n",
       "</style>\n",
       "<table border=\"1\" class=\"dataframe\">\n",
       "  <thead>\n",
       "    <tr style=\"text-align: right;\">\n",
       "      <th></th>\n",
       "      <th>id</th>\n",
       "      <th>handle</th>\n",
       "      <th>name</th>\n",
       "      <th>bio</th>\n",
       "      <th>location</th>\n",
       "    </tr>\n",
       "  </thead>\n",
       "  <tbody>\n",
       "    <tr>\n",
       "      <th>0</th>\n",
       "      <td>3200004419</td>\n",
       "      <td>000sourav</td>\n",
       "      <td>Sourav.eth</td>\n",
       "      <td>Blockchain is our best bet against corruption....</td>\n",
       "      <td>127.0.0.1</td>\n",
       "    </tr>\n",
       "    <tr>\n",
       "      <th>1</th>\n",
       "      <td>1257842965654810624</td>\n",
       "      <td>007_east</td>\n",
       "      <td>eastpunker.eth</td>\n",
       "      <td>#Bitcoin Founder of Ruotong Music</td>\n",
       "      <td>日本 東京</td>\n",
       "    </tr>\n",
       "    <tr>\n",
       "      <th>2</th>\n",
       "      <td>225499192</td>\n",
       "      <td>00Xafre_h</td>\n",
       "      <td>Patrón.ΞTH</td>\n",
       "      <td>None</td>\n",
       "      <td>None</td>\n",
       "    </tr>\n",
       "    <tr>\n",
       "      <th>3</th>\n",
       "      <td>2523228612</td>\n",
       "      <td>01RafaelJimenez</td>\n",
       "      <td>rafa.eth</td>\n",
       "      <td>None</td>\n",
       "      <td>None</td>\n",
       "    </tr>\n",
       "    <tr>\n",
       "      <th>4</th>\n",
       "      <td>19783137</td>\n",
       "      <td>0666eth</td>\n",
       "      <td>0666.eth | @metakeyblades 11.12</td>\n",
       "      <td>nft collector, community builder &amp; project adv...</td>\n",
       "      <td>NYC</td>\n",
       "    </tr>\n",
       "  </tbody>\n",
       "</table>\n",
       "</div>"
      ],
      "text/plain": [
       "                    id           handle                             name  \\\n",
       "0           3200004419        000sourav                       Sourav.eth   \n",
       "1  1257842965654810624         007_east                   eastpunker.eth   \n",
       "2            225499192        00Xafre_h                       Patrón.ΞTH   \n",
       "3           2523228612  01RafaelJimenez                         rafa.eth   \n",
       "4             19783137          0666eth  0666.eth | @metakeyblades 11.12   \n",
       "\n",
       "                                                 bio   location  \n",
       "0  Blockchain is our best bet against corruption....  127.0.0.1  \n",
       "1                  #Bitcoin Founder of Ruotong Music      日本 東京  \n",
       "2                                               None       None  \n",
       "3                                               None       None  \n",
       "4  nft collector, community builder & project adv...        NYC  "
      ]
     },
     "execution_count": 29,
     "metadata": {},
     "output_type": "execute_result"
    }
   ],
   "source": [
    "## grab ultrasoundmoney Twitter data\n",
    "url = \"https://raw.githubusercontent.com/ultrasoundmoney/ens_twitter_accounts/main/ens_twitter.json\"\n",
    "ens_df = pd.read_json(url)\n",
    "ens_df.head(5)"
   ]
  },
  {
   "cell_type": "code",
   "execution_count": 24,
   "id": "5d50607f-8087-4eed-ae45-af351b31c868",
   "metadata": {},
   "outputs": [],
   "source": [
    "# helpers \n",
    "\n",
    "# figure out if a field contains an ENS\n",
    "def find_ens(text):\n",
    "    tokens = text.split(\" \")\n",
    "    for token in tokens:\n",
    "        matches = re.search(\".*\\.eth|\\.𝚎𝚝𝚑|\\.Ξth|\\.⟠|dot eth\", token)\n",
    "        if matches is not None:\n",
    "            match = matches.group(0)\n",
    "            return(match.lower())\n",
    "        else:\n",
    "            return(None)\n",
    "        \n",
    "        \n",
    "# if one row contains multiple ENS, figure out if they're dupes       \n",
    "def choose_ens(df_row):\n",
    "    handle_ens = df_row['handle_ens']\n",
    "    name_ens = df_row['name_ens']\n",
    "    bio_ens = df_row['bio_ens']\n",
    "    twitter_id = df_row['id']\n",
    "    list_aliases = list()\n",
    "    list_aliases.append(dict(ens_type = 'handle_ens', ens=handle_ens, twitter_id =twitter_id))\n",
    "    list_aliases.append(dict(ens_type = 'name_ens', ens=name_ens, twitter_id = twitter_id))\n",
    "    list_aliases.append(dict(ens_type = 'bio_ens', ens=bio_ens, twitter_id = twitter_id))\n",
    "    list_aliases =  [i for i in list_aliases if i is not None]\n",
    "    if len(list_aliases) > 0:\n",
    "        done = set()\n",
    "        result = list()\n",
    "        for alias in list_aliases:\n",
    "            if alias['ens'] not in done:\n",
    "                if alias['ens'] is not None:\n",
    "                    done.add(alias['ens'])\n",
    "                    result.append(alias)\n",
    "                    return(result)\n",
    "    else:\n",
    "        pass\n"
   ]
  },
  {
   "cell_type": "code",
   "execution_count": 25,
   "id": "bafaff84-84c3-4bba-909c-e4b488c5d7ef",
   "metadata": {},
   "outputs": [],
   "source": [
    "## add potential ens\n",
    "ens_df['handle_ens'] = ens_df['handle'].apply(find_ens)\n",
    "ens_df['name_ens'] = ens_df['name'].apply(find_ens)\n",
    "ens_df['bio_ens'] = ens_df['name'].apply(find_ens)"
   ]
  },
  {
   "cell_type": "code",
   "execution_count": 26,
   "id": "5a5b3d20-e26b-4e2f-afd0-d15793ff6d2b",
   "metadata": {},
   "outputs": [
    {
     "data": {
      "text/plain": [
       "[{'ens_type': 'name_ens', 'ens': 'sourav.eth', 'twitter_id': 3200004419}]"
      ]
     },
     "execution_count": 26,
     "metadata": {},
     "output_type": "execute_result"
    }
   ],
   "source": [
    "choose_ens(ens_df.iloc[0])"
   ]
  },
  {
   "cell_type": "code",
   "execution_count": 27,
   "id": "dedc66a5-09ae-488f-9cfd-fb7a3365c421",
   "metadata": {},
   "outputs": [],
   "source": [
    "def create_mapping_df(ens_df):\n",
    "    mappings_list = list()\n",
    "    for index, row in ens_df.iterrows():\n",
    "        ens_options = choose_ens(row)\n",
    "        if ens_options:\n",
    "            [mappings_list.append(i) for i in ens_options]\n",
    "    mapping_df = pd.DataFrame(mappings_list)\n",
    "    return(mapping_df)\n",
    "\n",
    "\n",
    "results = create_mapping_df(ens_df)    \n",
    "        "
   ]
  },
  {
   "cell_type": "code",
   "execution_count": 28,
   "id": "e96cbdb7-4c61-427c-b08b-a041f7137ef2",
   "metadata": {},
   "outputs": [
    {
     "data": {
      "text/html": [
       "<div>\n",
       "<style scoped>\n",
       "    .dataframe tbody tr th:only-of-type {\n",
       "        vertical-align: middle;\n",
       "    }\n",
       "\n",
       "    .dataframe tbody tr th {\n",
       "        vertical-align: top;\n",
       "    }\n",
       "\n",
       "    .dataframe thead th {\n",
       "        text-align: right;\n",
       "    }\n",
       "</style>\n",
       "<table border=\"1\" class=\"dataframe\">\n",
       "  <thead>\n",
       "    <tr style=\"text-align: right;\">\n",
       "      <th></th>\n",
       "      <th>ens_type</th>\n",
       "      <th>ens</th>\n",
       "      <th>twitter_id</th>\n",
       "    </tr>\n",
       "  </thead>\n",
       "  <tbody>\n",
       "    <tr>\n",
       "      <th>0</th>\n",
       "      <td>name_ens</td>\n",
       "      <td>sourav.eth</td>\n",
       "      <td>3200004419</td>\n",
       "    </tr>\n",
       "    <tr>\n",
       "      <th>1</th>\n",
       "      <td>name_ens</td>\n",
       "      <td>eastpunker.eth</td>\n",
       "      <td>1257842965654810624</td>\n",
       "    </tr>\n",
       "    <tr>\n",
       "      <th>2</th>\n",
       "      <td>name_ens</td>\n",
       "      <td>rafa.eth</td>\n",
       "      <td>2523228612</td>\n",
       "    </tr>\n",
       "    <tr>\n",
       "      <th>3</th>\n",
       "      <td>name_ens</td>\n",
       "      <td>0666.eth</td>\n",
       "      <td>19783137</td>\n",
       "    </tr>\n",
       "    <tr>\n",
       "      <th>4</th>\n",
       "      <td>name_ens</td>\n",
       "      <td>mihirg.eth</td>\n",
       "      <td>3119128550</td>\n",
       "    </tr>\n",
       "  </tbody>\n",
       "</table>\n",
       "</div>"
      ],
      "text/plain": [
       "   ens_type             ens           twitter_id\n",
       "0  name_ens      sourav.eth           3200004419\n",
       "1  name_ens  eastpunker.eth  1257842965654810624\n",
       "2  name_ens        rafa.eth           2523228612\n",
       "3  name_ens        0666.eth             19783137\n",
       "4  name_ens      mihirg.eth           3119128550"
      ]
     },
     "execution_count": 28,
     "metadata": {},
     "output_type": "execute_result"
    }
   ],
   "source": [
    "results.head()"
   ]
  },
  {
   "cell_type": "code",
   "execution_count": 29,
   "id": "85d2f2cb-1da9-4659-9775-945c0607b787",
   "metadata": {},
   "outputs": [
    {
     "name": "stdout",
     "output_type": "stream",
     "text": [
      "15861\n"
     ]
    }
   ],
   "source": [
    "## found matches\n",
    "results.head(25)\n",
    "print(len(ens_df) - (len(ens_df) - len(results)))"
   ]
  },
  {
   "cell_type": "code",
   "execution_count": 30,
   "id": "b60d4c2f-0db5-4ff9-ab65-89318cb52ef3",
   "metadata": {},
   "outputs": [],
   "source": [
    "## missing middle\n",
    "results['valid_ens'] = results['ens'].apply(web3.ens.is_valid_name)"
   ]
  },
  {
   "cell_type": "code",
   "execution_count": 36,
   "id": "5ed93e7e-b8ee-408f-8469-a16fa517f503",
   "metadata": {},
   "outputs": [],
   "source": [
    "valid_results = results[results.valid_ens == True]"
   ]
  },
  {
   "cell_type": "code",
   "execution_count": 37,
   "id": "c4dd0845-3dcd-4b76-98a6-7a6a352de5e3",
   "metadata": {},
   "outputs": [
    {
     "name": "stdout",
     "output_type": "stream",
     "text": [
      "15718\n"
     ]
    }
   ],
   "source": [
    "print(len(valid_results))"
   ]
  },
  {
   "cell_type": "code",
   "execution_count": 38,
   "id": "a2ad2adc-1a8f-469c-a3f5-8cec5ad2c954",
   "metadata": {},
   "outputs": [
    {
     "data": {
      "text/html": [
       "<div>\n",
       "<style scoped>\n",
       "    .dataframe tbody tr th:only-of-type {\n",
       "        vertical-align: middle;\n",
       "    }\n",
       "\n",
       "    .dataframe tbody tr th {\n",
       "        vertical-align: top;\n",
       "    }\n",
       "\n",
       "    .dataframe thead th {\n",
       "        text-align: right;\n",
       "    }\n",
       "</style>\n",
       "<table border=\"1\" class=\"dataframe\">\n",
       "  <thead>\n",
       "    <tr style=\"text-align: right;\">\n",
       "      <th></th>\n",
       "      <th>ens_type</th>\n",
       "      <th>ens</th>\n",
       "      <th>twitter_id</th>\n",
       "      <th>valid_ens</th>\n",
       "    </tr>\n",
       "  </thead>\n",
       "  <tbody>\n",
       "    <tr>\n",
       "      <th>0</th>\n",
       "      <td>name_ens</td>\n",
       "      <td>sourav.eth</td>\n",
       "      <td>3200004419</td>\n",
       "      <td>True</td>\n",
       "    </tr>\n",
       "    <tr>\n",
       "      <th>1</th>\n",
       "      <td>name_ens</td>\n",
       "      <td>eastpunker.eth</td>\n",
       "      <td>1257842965654810624</td>\n",
       "      <td>True</td>\n",
       "    </tr>\n",
       "    <tr>\n",
       "      <th>2</th>\n",
       "      <td>name_ens</td>\n",
       "      <td>rafa.eth</td>\n",
       "      <td>2523228612</td>\n",
       "      <td>True</td>\n",
       "    </tr>\n",
       "    <tr>\n",
       "      <th>3</th>\n",
       "      <td>name_ens</td>\n",
       "      <td>0666.eth</td>\n",
       "      <td>19783137</td>\n",
       "      <td>True</td>\n",
       "    </tr>\n",
       "    <tr>\n",
       "      <th>4</th>\n",
       "      <td>name_ens</td>\n",
       "      <td>mihirg.eth</td>\n",
       "      <td>3119128550</td>\n",
       "      <td>True</td>\n",
       "    </tr>\n",
       "    <tr>\n",
       "      <th>...</th>\n",
       "      <td>...</td>\n",
       "      <td>...</td>\n",
       "      <td>...</td>\n",
       "      <td>...</td>\n",
       "    </tr>\n",
       "    <tr>\n",
       "      <th>15856</th>\n",
       "      <td>name_ens</td>\n",
       "      <td>zyonik.eth</td>\n",
       "      <td>1450856815772721152</td>\n",
       "      <td>True</td>\n",
       "    </tr>\n",
       "    <tr>\n",
       "      <th>15857</th>\n",
       "      <td>name_ens</td>\n",
       "      <td>zywwqq.eth</td>\n",
       "      <td>1145730904041484288</td>\n",
       "      <td>True</td>\n",
       "    </tr>\n",
       "    <tr>\n",
       "      <th>15858</th>\n",
       "      <td>name_ens</td>\n",
       "      <td>zyx.eth</td>\n",
       "      <td>1438927646759559168</td>\n",
       "      <td>True</td>\n",
       "    </tr>\n",
       "    <tr>\n",
       "      <th>15859</th>\n",
       "      <td>name_ens</td>\n",
       "      <td>ź.eth</td>\n",
       "      <td>1046830729852854272</td>\n",
       "      <td>True</td>\n",
       "    </tr>\n",
       "    <tr>\n",
       "      <th>15860</th>\n",
       "      <td>name_ens</td>\n",
       "      <td>millet.eth</td>\n",
       "      <td>1328863728767541248</td>\n",
       "      <td>True</td>\n",
       "    </tr>\n",
       "  </tbody>\n",
       "</table>\n",
       "<p>15718 rows × 4 columns</p>\n",
       "</div>"
      ],
      "text/plain": [
       "       ens_type             ens           twitter_id  valid_ens\n",
       "0      name_ens      sourav.eth           3200004419       True\n",
       "1      name_ens  eastpunker.eth  1257842965654810624       True\n",
       "2      name_ens        rafa.eth           2523228612       True\n",
       "3      name_ens        0666.eth             19783137       True\n",
       "4      name_ens      mihirg.eth           3119128550       True\n",
       "...         ...             ...                  ...        ...\n",
       "15856  name_ens      zyonik.eth  1450856815772721152       True\n",
       "15857  name_ens      zywwqq.eth  1145730904041484288       True\n",
       "15858  name_ens         zyx.eth  1438927646759559168       True\n",
       "15859  name_ens           ź.eth  1046830729852854272       True\n",
       "15860  name_ens      millet.eth  1328863728767541248       True\n",
       "\n",
       "[15718 rows x 4 columns]"
      ]
     },
     "execution_count": 38,
     "metadata": {},
     "output_type": "execute_result"
    }
   ],
   "source": [
    "valid_results"
   ]
  },
  {
   "cell_type": "code",
   "execution_count": 42,
   "id": "e2673300-9fd7-4fcd-8bfb-af8c35c2524c",
   "metadata": {},
   "outputs": [],
   "source": [
    "def try_owner(val):\n",
    "    try:\n",
    "        response = web3.ens.owner(val)\n",
    "    except Exception as e:\n",
    "        response = \"DROP\"\n",
    "    return(response)"
   ]
  },
  {
   "cell_type": "code",
   "execution_count": 43,
   "id": "9149eb34-f4c2-4851-9722-ada836fa797d",
   "metadata": {},
   "outputs": [
    {
     "name": "stderr",
     "output_type": "stream",
     "text": [
      "/var/folders/6_/msxj91gs3w57w9h1dlk9dgc40000gn/T/ipykernel_83059/1046211245.py:2: SettingWithCopyWarning: \n",
      "A value is trying to be set on a copy of a slice from a DataFrame.\n",
      "Try using .loc[row_indexer,col_indexer] = value instead\n",
      "\n",
      "See the caveats in the documentation: https://pandas.pydata.org/pandas-docs/stable/user_guide/indexing.html#returning-a-view-versus-a-copy\n",
      "  valid_results['owner_wallet'] = results['ens'].apply(try_owner)\n"
     ]
    }
   ],
   "source": [
    "# add controller wallet\n",
    "valid_results['owner_wallet'] = results['ens'].apply(try_owner)\n"
   ]
  },
  {
   "cell_type": "code",
   "execution_count": null,
   "id": "4e148961-4321-4824-ad25-1e2650087c86",
   "metadata": {},
   "outputs": [],
   "source": []
  },
  {
   "cell_type": "code",
   "execution_count": 45,
   "id": "776bd1e7-055c-4bcc-a451-a21b71a55d99",
   "metadata": {},
   "outputs": [],
   "source": [
    "valid_results.to_csv('data/wallet_ens_twitter_bliss.csv')"
   ]
  },
  {
   "cell_type": "code",
   "execution_count": 6,
   "id": "7250a01a-2489-414a-a44d-0aee54f3fd15",
   "metadata": {},
   "outputs": [],
   "source": [
    "import pandas as pd\n",
    "valid_results = pd.read_csv('data/wallet_ens_twitter_bliss.csv')"
   ]
  },
  {
   "cell_type": "code",
   "execution_count": 8,
   "id": "9ad3e989-5f61-4a35-89f9-632421b480e6",
   "metadata": {},
   "outputs": [],
   "source": [
    "## drop FALSE / unresolved\n",
    "cleaned_valid = valid_results[valid_results.owner_wallet.isin(['FALSE', '0x0000000000000000000000000000000000000000']) == False]"
   ]
  },
  {
   "cell_type": "code",
   "execution_count": 9,
   "id": "8500ae99-268c-450c-a4f4-08af93bc03e0",
   "metadata": {},
   "outputs": [],
   "source": [
    "## drop unresolved\n",
    "cleaned_valid.to_csv('data/wallet_ens_twitter_cleaned_final.csv')"
   ]
  },
  {
   "cell_type": "code",
   "execution_count": 22,
   "id": "c54e1f56-5791-4dae-8fe2-340595ab4231",
   "metadata": {},
   "outputs": [
    {
     "name": "stderr",
     "output_type": "stream",
     "text": [
      "/var/folders/6_/msxj91gs3w57w9h1dlk9dgc40000gn/T/ipykernel_5738/3309925088.py:2: SettingWithCopyWarning: \n",
      "A value is trying to be set on a copy of a slice from a DataFrame.\n",
      "Try using .loc[row_indexer,col_indexer] = value instead\n",
      "\n",
      "See the caveats in the documentation: https://pandas.pydata.org/pandas-docs/stable/user_guide/indexing.html#returning-a-view-versus-a-copy\n",
      "  ens_df_short['twitter_id'] = ens_df['id']\n",
      "/var/folders/6_/msxj91gs3w57w9h1dlk9dgc40000gn/T/ipykernel_5738/3309925088.py:3: SettingWithCopyWarning: \n",
      "A value is trying to be set on a copy of a slice from a DataFrame.\n",
      "Try using .loc[row_indexer,col_indexer] = value instead\n",
      "\n",
      "See the caveats in the documentation: https://pandas.pydata.org/pandas-docs/stable/user_guide/indexing.html#returning-a-view-versus-a-copy\n",
      "  ens_df_short['handle'] = ens_df['handle']\n"
     ]
    }
   ],
   "source": [
    "## join back handle\n",
    "ens_df_short['twitter_id'] = ens_df['id']\n",
    "ens_df_short['handle'] = ens_df['handle']"
   ]
  },
  {
   "cell_type": "code",
   "execution_count": 24,
   "id": "7c9d1666-3af4-4f40-ad38-9ca77bb2fb40",
   "metadata": {},
   "outputs": [],
   "source": [
    "cleaned_valid =  cleaned_valid.merge(ens_df_short, on='twitter_id', how='left')"
   ]
  },
  {
   "cell_type": "code",
   "execution_count": 26,
   "id": "a70ebbd8-dc17-4536-aa3f-4a9892718c56",
   "metadata": {},
   "outputs": [],
   "source": [
    "cleaned_valid_final = cleaned_valid.to_csv('data/cleaned_ens_twitter_handles.csv')"
   ]
  },
  {
   "cell_type": "code",
   "execution_count": 7,
   "id": "714ef5a2-a183-4a07-aa0f-811961e33147",
   "metadata": {
    "tags": []
   },
   "outputs": [
    {
     "name": "stdout",
     "output_type": "stream",
     "text": [
      "0xAb48EdD90bdF367d326D827758BAcD2460c59d17\n"
     ]
    }
   ],
   "source": [
    "print(web3.ens.owner('hydro.eth'))"
   ]
  }
 ],
 "metadata": {
  "kernelspec": {
   "display_name": "Python 3 (ipykernel)",
   "language": "python",
   "name": "python3"
  },
  "language_info": {
   "codemirror_mode": {
    "name": "ipython",
    "version": 3
   },
   "file_extension": ".py",
   "mimetype": "text/x-python",
   "name": "python",
   "nbconvert_exporter": "python",
   "pygments_lexer": "ipython3",
   "version": "3.9.10"
  }
 },
 "nbformat": 4,
 "nbformat_minor": 5
}
